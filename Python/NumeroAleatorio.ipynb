{
  "nbformat": 4,
  "nbformat_minor": 0,
  "metadata": {
    "colab": {
      "name": "NumeroAleatorio.ipynb",
      "provenance": [],
      "collapsed_sections": [],
      "authorship_tag": "ABX9TyNdV6VW/Hw0azTtzdVaXami",
      "include_colab_link": true
    },
    "kernelspec": {
      "name": "python3",
      "display_name": "Python 3"
    },
    "language_info": {
      "name": "python"
    }
  },
  "cells": [
    {
      "cell_type": "markdown",
      "metadata": {
        "id": "view-in-github",
        "colab_type": "text"
      },
      "source": [
        "<a href=\"https://colab.research.google.com/github/rsconsuegra/MisionTIC2021/blob/main/NumeroAleatorio.ipynb\" target=\"_parent\"><img src=\"https://colab.research.google.com/assets/colab-badge.svg\" alt=\"Open In Colab\"/></a>"
      ]
    },
    {
      "cell_type": "code",
      "metadata": {
        "colab": {
          "base_uri": "https://localhost:8080/"
        },
        "id": "ahFlJaxitnrt",
        "outputId": "514de38c-bd8c-4fdf-df02-91e1f39b5447"
      },
      "source": [
        "\"\"\"\n",
        "Actividad 2:  \n",
        "Escribamos una función numAleatorio() que retorne un número aleatorio entre 100 y 130, excepto los números 110, 115 y 120.\n",
        "Adicionalmente, una función números que imprima diez números aleatorios (retornados por la función numAleatorio()) alternando\n",
        "par, impar, comenzando por par.\n",
        "numeros()\n",
        "\"\"\"\n",
        "from random import randint\n",
        "\n",
        "def numAleatorio():\n",
        "  number = randint(100,130)\n",
        "  while number == 110 or number == 115 or number == 120:\n",
        "    number = randint(100,130)\n",
        "  return number\n",
        "\n",
        "def numero():\n",
        "  i = 0\n",
        "  while i<10:\n",
        "    number = numAleatorio()\n",
        "    if i%2 == 0 and number%2 == 0:\n",
        "      print(f'{i} - {number}')\n",
        "      i +=1\n",
        "    elif i%2 != 0 and number%2 != 0:\n",
        "      print(f'{i} - {number}')\n",
        "      i +=1\n",
        "\n",
        "numero()"
      ],
      "execution_count": 6,
      "outputs": [
        {
          "output_type": "stream",
          "text": [
            "0 - 102\n",
            "1 - 119\n",
            "2 - 130\n",
            "3 - 125\n",
            "4 - 102\n",
            "5 - 121\n",
            "6 - 112\n",
            "7 - 105\n",
            "8 - 130\n",
            "9 - 121\n"
          ],
          "name": "stdout"
        }
      ]
    },
    {
      "cell_type": "code",
      "metadata": {
        "colab": {
          "base_uri": "https://localhost:8080/"
        },
        "id": "vWC1OmWdwrot",
        "outputId": "3b2c3ee6-7c87-47b7-c428-b46f4a70b929"
      },
      "source": [
        "# Otra forma de hacerlo\n",
        "from random import randrange\n",
        "\n",
        "def numAleatorio(even_or_odd):\n",
        "  number = randrange(100+even_or_odd,131,2)\n",
        "  while number in [110,115,120]:    number = randrange(100+even_or_odd,131,2)\n",
        "  return number\n",
        "\n",
        "def numero():\n",
        "  for i in range(10): print(f'{i} - {numAleatorio(i%2)}')\n",
        "\n",
        "numero()"
      ],
      "execution_count": 12,
      "outputs": [
        {
          "output_type": "stream",
          "text": [
            "0 - 128\n",
            "1 - 113\n",
            "2 - 128\n",
            "3 - 119\n",
            "4 - 114\n",
            "5 - 127\n",
            "6 - 124\n",
            "7 - 101\n",
            "8 - 102\n",
            "9 - 129\n"
          ],
          "name": "stdout"
        }
      ]
    },
    {
      "cell_type": "code",
      "metadata": {
        "colab": {
          "base_uri": "https://localhost:8080/"
        },
        "id": "i8atssK9u17H",
        "outputId": "f9e054fb-c5e4-456d-ac60-0b162df87714"
      },
      "source": [
        "#One Liner\n",
        "from random import choice\n",
        "\n",
        "def numAleatorio(even_or_odd):\n",
        "  return choice([i for i in range(100+even_or_odd,131,2) if i not in [110,115,120]])\n",
        "\n",
        "def numero():\n",
        "  for i in range(10): print(f'{i} - {numAleatorio(i%2)}')\n",
        "\n",
        "numero()"
      ],
      "execution_count": 15,
      "outputs": [
        {
          "output_type": "stream",
          "text": [
            "0 - 116\n",
            "1 - 101\n",
            "2 - 126\n",
            "3 - 113\n",
            "4 - 128\n",
            "5 - 125\n",
            "6 - 118\n",
            "7 - 111\n",
            "8 - 116\n",
            "9 - 111\n"
          ],
          "name": "stdout"
        }
      ]
    }
  ]
}