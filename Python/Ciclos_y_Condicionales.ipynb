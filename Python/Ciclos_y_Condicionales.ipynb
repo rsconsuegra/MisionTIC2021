{
  "nbformat": 4,
  "nbformat_minor": 0,
  "metadata": {
    "colab": {
      "name": "Ciclos_y_Condicionales.ipynb",
      "provenance": [],
      "authorship_tag": "ABX9TyMr0RAZmfO23pd4ZALcxayy",
      "include_colab_link": true
    },
    "kernelspec": {
      "name": "python3",
      "display_name": "Python 3"
    },
    "language_info": {
      "name": "python"
    }
  },
  "cells": [
    {
      "cell_type": "markdown",
      "metadata": {
        "id": "view-in-github",
        "colab_type": "text"
      },
      "source": [
        "<a href=\"https://colab.research.google.com/github/rsconsuegra/MisionTIC2021/blob/main/Ciclos_y_Condicionales.ipynb\" target=\"_parent\"><img src=\"https://colab.research.google.com/assets/colab-badge.svg\" alt=\"Open In Colab\"/></a>"
      ]
    },
    {
      "cell_type": "code",
      "metadata": {
        "colab": {
          "base_uri": "https://localhost:8080/"
        },
        "id": "V6gYmcGtN3B6",
        "outputId": "57c96d88-eb76-482b-e8b8-edb4e0530fa5"
      },
      "source": [
        "number = int(input())\n",
        "sum1 = 0\n",
        "sum2 = 0\n",
        "sum3 =0 \n",
        "\n",
        "rg1 = 0\n",
        "rg2 = 0\n",
        "rg3 = 0\n",
        "\n",
        "for iter in range(number):\n",
        "  n1 = int(input())\n",
        "  n2 = int(input())\n",
        "  n3 = int(input())\n",
        "\n",
        "  sum1 = n1 + sum1\n",
        "  sum2 = n2 + sum2\n",
        "  sum3 = n3 + sum3\n",
        "\n",
        "  if n1>n2 and n1>n3:\n",
        "    rg1 = rg1 + 1\n",
        "  elif n2>n1 and n2>n3:\n",
        "    rg2 = rg2 + 1\n",
        "  elif n3>n1 and n3>n2:\n",
        "    rg3 = rg3 + 1\n",
        "\n",
        "print(rg1)\n",
        "print(rg2)\n",
        "print(rg3)\n",
        "\n",
        "print(sum1)\n",
        "print(sum2)\n",
        "print(sum3)"
      ],
      "execution_count": 1,
      "outputs": [
        {
          "output_type": "stream",
          "text": [
            "2\n",
            "4\n",
            "5\n",
            "9\n",
            "6\n",
            "1\n",
            "2\n",
            "1\n",
            "0\n",
            "1\n",
            "10\n",
            "6\n",
            "11\n"
          ],
          "name": "stdout"
        }
      ]
    }
  ]
}