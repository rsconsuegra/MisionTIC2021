{
  "nbformat": 4,
  "nbformat_minor": 0,
  "metadata": {
    "colab": {
      "name": "Sorting",
      "provenance": [],
      "authorship_tag": "ABX9TyP1vKiT+PQN0ICuYQMHD+5K",
      "include_colab_link": true
    },
    "kernelspec": {
      "name": "python3",
      "display_name": "Python 3"
    },
    "language_info": {
      "name": "python"
    }
  },
  "cells": [
    {
      "cell_type": "markdown",
      "metadata": {
        "id": "view-in-github",
        "colab_type": "text"
      },
      "source": [
        "<a href=\"https://colab.research.google.com/github/rsconsuegra/MisionTIC2021/blob/main/Sorting.ipynb\" target=\"_parent\"><img src=\"https://colab.research.google.com/assets/colab-badge.svg\" alt=\"Open In Colab\"/></a>"
      ]
    },
    {
      "cell_type": "code",
      "metadata": {
        "colab": {
          "base_uri": "https://localhost:8080/"
        },
        "id": "PTikqu1sm7YS",
        "outputId": "9e7c0424-9d16-4336-9c06-12c68a9dfba9"
      },
      "source": [
        "a = [[8,\"Sin reconocimiento\"],[6,\"Afro\"],[8,\"Raizal\"],[3,\"Indigena\"]]\n",
        "sorted(a,reverse=True)"
      ],
      "execution_count": 59,
      "outputs": [
        {
          "output_type": "execute_result",
          "data": {
            "text/plain": [
              "[[8, 'Sin reconocimiento'], [8, 'Raizal'], [6, 'Afro'], [3, 'Indigena']]"
            ]
          },
          "metadata": {
            "tags": []
          },
          "execution_count": 59
        }
      ]
    },
    {
      "cell_type": "code",
      "metadata": {
        "colab": {
          "base_uri": "https://localhost:8080/"
        },
        "id": "I70YedqInV-c",
        "outputId": "f21ae915-9dbe-4966-bfe0-1202e7bb50f7"
      },
      "source": [
        "a = [[\"Sin reconocimiento\",8],[\"Afro\",6],[\"Raizal\",8],[\"Indigena\",3]]\n",
        "a.sort(key=lambda k: (-k[1], k[0]), reverse=False)\n",
        "a"
      ],
      "execution_count": 60,
      "outputs": [
        {
          "output_type": "execute_result",
          "data": {
            "text/plain": [
              "[['Raizal', 8], ['Sin reconocimiento', 8], ['Afro', 6], ['Indigena', 3]]"
            ]
          },
          "metadata": {
            "tags": []
          },
          "execution_count": 60
        }
      ]
    },
    {
      "cell_type": "code",
      "metadata": {
        "colab": {
          "base_uri": "https://localhost:8080/"
        },
        "id": "EUoYUx0WovHO",
        "outputId": "83438feb-389b-4c61-acfe-0780fad258f8"
      },
      "source": [
        "a = [[8,\"Sin reconocimiento\"],[6,\"Afro\"],[8,\"Raizal\"],[3,\"Indigena\"]]\n",
        "def invertir(a):\n",
        "  b = []\n",
        "  for i in range(len(a)):\n",
        "    b.append([a[i][1],-a[i][0]])\n",
        "  return b\n",
        "invertir(a)"
      ],
      "execution_count": 74,
      "outputs": [
        {
          "output_type": "execute_result",
          "data": {
            "text/plain": [
              "[['Sin reconocimiento', -8], ['Afro', -6], ['Raizal', -8], ['Indigena', -3]]"
            ]
          },
          "metadata": {
            "tags": []
          },
          "execution_count": 74
        }
      ]
    },
    {
      "cell_type": "code",
      "metadata": {
        "colab": {
          "base_uri": "https://localhost:8080/",
          "height": 208
        },
        "id": "3gPl233HpR4O",
        "outputId": "a8d9ecd9-c8d5-4f3d-d481-3d81d48cc3bf"
      },
      "source": [
        "b = []\n",
        "len(b)\n"
      ],
      "execution_count": 71,
      "outputs": [
        {
          "output_type": "error",
          "ename": "TypeError",
          "evalue": "ignored",
          "traceback": [
            "\u001b[0;31m---------------------------------------------------------------------------\u001b[0m",
            "\u001b[0;31mTypeError\u001b[0m                                 Traceback (most recent call last)",
            "\u001b[0;32m<ipython-input-71-765aebc5f9e6>\u001b[0m in \u001b[0;36m<module>\u001b[0;34m()\u001b[0m\n\u001b[1;32m      1\u001b[0m \u001b[0mb\u001b[0m \u001b[0;34m=\u001b[0m \u001b[0;34m[\u001b[0m\u001b[0;34m]\u001b[0m\u001b[0;34m\u001b[0m\u001b[0;34m\u001b[0m\u001b[0m\n\u001b[1;32m      2\u001b[0m \u001b[0mlen\u001b[0m\u001b[0;34m(\u001b[0m\u001b[0mb\u001b[0m\u001b[0;34m)\u001b[0m\u001b[0;34m\u001b[0m\u001b[0;34m\u001b[0m\u001b[0m\n\u001b[0;32m----> 3\u001b[0;31m \u001b[0mb\u001b[0m\u001b[0;34m.\u001b[0m\u001b[0mappend\u001b[0m\u001b[0;34m(\u001b[0m\u001b[0;34m[\u001b[0m\u001b[0;34m-\u001b[0m\u001b[0ma\u001b[0m\u001b[0;34m[\u001b[0m\u001b[0;36m0\u001b[0m\u001b[0;34m]\u001b[0m\u001b[0;34m[\u001b[0m\u001b[0;36m1\u001b[0m\u001b[0;34m]\u001b[0m\u001b[0;34m,\u001b[0m\u001b[0ma\u001b[0m\u001b[0;34m[\u001b[0m\u001b[0;36m0\u001b[0m\u001b[0;34m]\u001b[0m\u001b[0;34m[\u001b[0m\u001b[0;36m0\u001b[0m\u001b[0;34m]\u001b[0m\u001b[0;34m]\u001b[0m\u001b[0;34m)\u001b[0m\u001b[0;34m\u001b[0m\u001b[0;34m\u001b[0m\u001b[0m\n\u001b[0m",
            "\u001b[0;31mTypeError\u001b[0m: bad operand type for unary -: 'str'"
          ]
        }
      ]
    },
    {
      "cell_type": "code",
      "metadata": {
        "colab": {
          "base_uri": "https://localhost:8080/"
        },
        "id": "fhpx2peKnu0l",
        "outputId": "eefe025d-8ae0-4797-a4f6-a8d660048004"
      },
      "source": [
        "a = [[\"Sin reconocimiento\",8],[\"Afro\",6],[\"Raizal\",8],[\"Indigena\",3]]\n",
        "a.sort(key=lambda k: (k[1], k[0]), reverse=True)\n",
        "a"
      ],
      "execution_count": 48,
      "outputs": [
        {
          "output_type": "execute_result",
          "data": {
            "text/plain": [
              "[['Sin reconocimiento', 8], ['Raizal', 8], ['Afro', 6], ['Indigena', 3]]"
            ]
          },
          "metadata": {
            "tags": []
          },
          "execution_count": 48
        }
      ]
    },
    {
      "cell_type": "code",
      "metadata": {
        "colab": {
          "base_uri": "https://localhost:8080/"
        },
        "id": "ITNTiYkYh2vv",
        "outputId": "a949ff71-7262-4212-b777-34b8ab13ba98"
      },
      "source": [
        "a = [[8,'f'],[1,'w'],[7,'s'],[2,'z'],[2,'h']]\n",
        "for i in range(len(a)):\n",
        "  a[i][0] = -a[i][0]\n",
        "\n",
        "a = sorted(a,reverse=False)\n",
        "for i in range(len(a)):\n",
        "  a[i][0] = -a[i][0]\n",
        "\n",
        "a = sorted(a,reverse=True)\n",
        "\n",
        "a"
      ],
      "execution_count": 31,
      "outputs": [
        {
          "output_type": "execute_result",
          "data": {
            "text/plain": [
              "[[8, 'f'], [7, 's'], [2, 'z'], [2, 'h'], [1, 'w']]"
            ]
          },
          "metadata": {
            "tags": []
          },
          "execution_count": 31
        }
      ]
    },
    {
      "cell_type": "code",
      "metadata": {
        "colab": {
          "base_uri": "https://localhost:8080/"
        },
        "id": "aw6Wf0qzmIIQ",
        "outputId": "97970341-c74b-4fda-bb44-8df3f5d60fd3"
      },
      "source": [
        "a = [[8,'f'],[1,'w'],[7,'s'],[2,'z'],[2,'h']]\n",
        "sorted(a,reverse=True)"
      ],
      "execution_count": 38,
      "outputs": [
        {
          "output_type": "execute_result",
          "data": {
            "text/plain": [
              "[[8, 'f'], [7, 's'], [2, 'z'], [2, 'h'], [1, 'w']]"
            ]
          },
          "metadata": {
            "tags": []
          },
          "execution_count": 38
        }
      ]
    },
    {
      "cell_type": "code",
      "metadata": {
        "colab": {
          "base_uri": "https://localhost:8080/"
        },
        "id": "16Aze0F1lIqP",
        "outputId": "1f23f05f-e8c8-4348-dd95-6c24ee0a1f26"
      },
      "source": [
        "a = [[8,'f'],[1,'w'],[7,'s'],[2,'z'],[2,'h']]\n",
        "a.sort(key=lambda k: (k[0], k[1]), reverse=True)\n",
        "a"
      ],
      "execution_count": 35,
      "outputs": [
        {
          "output_type": "execute_result",
          "data": {
            "text/plain": [
              "[[8, 'f'], [7, 's'], [2, 'z'], [2, 'h'], [1, 'w']]"
            ]
          },
          "metadata": {
            "tags": []
          },
          "execution_count": 35
        }
      ]
    },
    {
      "cell_type": "code",
      "metadata": {
        "id": "kxXQ7jRdqhvI"
      },
      "source": [
        "a = [[\"Sin reconocimiento\",8],[\"Afro\",6],[\"Raizal\",8],[\"Indigena\",3]]\n",
        "a.sort(a,reverse=False)"
      ],
      "execution_count": 75,
      "outputs": []
    }
  ]
}