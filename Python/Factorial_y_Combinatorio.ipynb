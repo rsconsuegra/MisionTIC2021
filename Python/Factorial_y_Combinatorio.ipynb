{
  "nbformat": 4,
  "nbformat_minor": 0,
  "metadata": {
    "colab": {
      "name": "Factorial_y_Combinatorio.ipynb",
      "provenance": [],
      "authorship_tag": "ABX9TyOrSPTz1h2JZUc+7x5Qa+RP",
      "include_colab_link": true
    },
    "kernelspec": {
      "name": "python3",
      "display_name": "Python 3"
    },
    "language_info": {
      "name": "python"
    }
  },
  "cells": [
    {
      "cell_type": "markdown",
      "metadata": {
        "id": "view-in-github",
        "colab_type": "text"
      },
      "source": [
        "<a href=\"https://colab.research.google.com/github/rsconsuegra/MisionTIC2021/blob/main/Factorial_y_Combinatorio.ipynb\" target=\"_parent\"><img src=\"https://colab.research.google.com/assets/colab-badge.svg\" alt=\"Open In Colab\"/></a>"
      ]
    },
    {
      "cell_type": "code",
      "metadata": {
        "colab": {
          "base_uri": "https://localhost:8080/"
        },
        "id": "HbdJaJxU2mxM",
        "outputId": "e6cc6455-e563-4d06-a14a-09a4058590f3"
      },
      "source": [
        "## Forfactorial mostrando operaciones\n",
        "n = int(input())\n",
        "fact = 1\n",
        "cadena = \"\"\n",
        "for i in range(1,n+1):\n",
        "  fact *= i\n",
        "  if (i == n):\n",
        "    cadena = cadena + str(i) + \"=\"\n",
        "  else:\n",
        "    cadena = cadena + str(i) + \"*\"\n",
        "print(fact)\n",
        "print(cadena+str(fact))\n",
        "\n",
        "## Forfactorial mostrando operaciones\n",
        "n = int(input())\n",
        "fact = 1\n",
        "cadena = \"\"\n",
        "for i in range(1,n+1):\n",
        "  fact *= i\n",
        "  cadena = cadena + str(i) + \"*\"\n",
        "\n",
        "print(fact)\n",
        "print(cadena[:-1]+\"=\"+str(fact))\n",
        "\n",
        "#Whilefactorial sin mostrar operaciones\n",
        "n = int(input())\n",
        "i = 1\n",
        "fact = 1\n",
        "while i <= n:\n",
        "  fact *= i\n",
        "  i += 1\n",
        "print(fact)"
      ],
      "execution_count": 1,
      "outputs": [
        {
          "output_type": "stream",
          "text": [
            "5\n",
            "120\n",
            "1*2*3*4*5=120\n",
            "5\n",
            "120\n",
            "1*2*3*4*5=120\n",
            "5\n",
            "120\n"
          ],
          "name": "stdout"
        }
      ]
    },
    {
      "cell_type": "code",
      "metadata": {
        "id": "6YbSQn2h3NDA"
      },
      "source": [
        "numero = 0\n",
        "while numero != -1:\n",
        "  numero = int(input(\"escribe números: \"))\n",
        "  fact = 1\n",
        "  cadena = \"\"\n",
        "  for i in range(1,numero+1):\n",
        "    fact *= i\n",
        "    cadena = cadena + str(i) + \"*\"\n",
        "  if (numero != -1):\n",
        "    print(cadena[:-1]+\"=\"+str(fact))  \n"
      ],
      "execution_count": null,
      "outputs": []
    },
    {
      "cell_type": "code",
      "metadata": {
        "id": "f9vz40TU3NFr"
      },
      "source": [
        "numero = int(input(\"Escribe un número: \"))\n",
        "while numero != -1:\n",
        "  i = 1\n",
        "  fact = 1\n",
        "  while i <= numero:\n",
        "    fact *= i\n",
        "    i += 1\n",
        "  print(fact)\n",
        "  numero = int(input(\"Escribe un número: \"))"
      ],
      "execution_count": null,
      "outputs": []
    }
  ]
}