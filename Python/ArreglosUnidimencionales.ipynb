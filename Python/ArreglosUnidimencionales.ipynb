{
  "nbformat": 4,
  "nbformat_minor": 0,
  "metadata": {
    "colab": {
      "name": "ArreglosUnidimencionales.ipynb",
      "provenance": [],
      "collapsed_sections": [],
      "authorship_tag": "ABX9TyPhlJq8oD8Vvhlr6hFqw2FQ",
      "include_colab_link": true
    },
    "kernelspec": {
      "name": "python3",
      "display_name": "Python 3"
    },
    "language_info": {
      "name": "python"
    }
  },
  "cells": [
    {
      "cell_type": "markdown",
      "metadata": {
        "id": "view-in-github",
        "colab_type": "text"
      },
      "source": [
        "<a href=\"https://colab.research.google.com/github/rsconsuegra/MisionTIC2021/blob/main/ArreglosUnidimencionales.ipynb\" target=\"_parent\"><img src=\"https://colab.research.google.com/assets/colab-badge.svg\" alt=\"Open In Colab\"/></a>"
      ]
    },
    {
      "cell_type": "markdown",
      "metadata": {
        "id": "bhA2PHgTVgtC"
      },
      "source": [
        "# Creación e indexación"
      ]
    },
    {
      "cell_type": "code",
      "metadata": {
        "colab": {
          "base_uri": "https://localhost:8080/"
        },
        "id": "RbuYc6ey23gM",
        "outputId": "5db2d9b7-398a-417c-a9b5-6c9fea27befc"
      },
      "source": [
        "a = [1, 3, 9, 'Py', 217.213]\n",
        "a "
      ],
      "execution_count": 53,
      "outputs": [
        {
          "output_type": "execute_result",
          "data": {
            "text/plain": [
              "[1, 3, 9, 'Py', 217.213]"
            ]
          },
          "metadata": {
            "tags": []
          },
          "execution_count": 53
        }
      ]
    },
    {
      "cell_type": "code",
      "metadata": {
        "colab": {
          "base_uri": "https://localhost:8080/"
        },
        "id": "EmCvWHcJFFoJ",
        "outputId": "db7f2603-15e1-419b-ae7e-500343370961"
      },
      "source": [
        "lista = [2,5,4,1,5,9,7,4,1]\n",
        "indice = 0\n",
        "print(lista[indice])\n",
        "indice = 4\n",
        "print(lista[indice])\n",
        "indice = -1\n",
        "print(lista[indice])"
      ],
      "execution_count": 54,
      "outputs": [
        {
          "output_type": "stream",
          "text": [
            "2\n",
            "5\n",
            "1\n"
          ],
          "name": "stdout"
        }
      ]
    },
    {
      "cell_type": "markdown",
      "metadata": {
        "id": "PWN4EDm8WNZw"
      },
      "source": [
        "## Slicing"
      ]
    },
    {
      "cell_type": "code",
      "metadata": {
        "colab": {
          "base_uri": "https://localhost:8080/"
        },
        "id": "PoV3xeGISAfV",
        "outputId": "4f1230f4-63a7-4fa0-c92b-6e00964ee6bd"
      },
      "source": [
        "print(lista[2:9])"
      ],
      "execution_count": 22,
      "outputs": [
        {
          "output_type": "stream",
          "text": [
            "[4, 1, 5, 9, 7, 4, 1]\n"
          ],
          "name": "stdout"
        }
      ]
    },
    {
      "cell_type": "code",
      "metadata": {
        "colab": {
          "base_uri": "https://localhost:8080/"
        },
        "id": "XqG0GwUg3511",
        "outputId": "047b02e5-c9cb-466d-f84e-9908a80c8bc3"
      },
      "source": [
        "a = [1, 2, 3, 4, 5, 6]\n",
        "a[1:3] = [9, 9, 9, 9]\n",
        "print(a)"
      ],
      "execution_count": 40,
      "outputs": [
        {
          "output_type": "stream",
          "text": [
            "[1, 9, 9, 9, 9, 4, 5, 6]\n"
          ],
          "name": "stdout"
        }
      ]
    },
    {
      "cell_type": "code",
      "metadata": {
        "colab": {
          "base_uri": "https://localhost:8080/"
        },
        "id": "oODCuxZO4AcW",
        "outputId": "19e84e32-e49d-457c-87bf-01e199f81351"
      },
      "source": [
        "a = [1, 2, 3, 4, 5, 6]\n",
        "a[::2]"
      ],
      "execution_count": 51,
      "outputs": [
        {
          "output_type": "execute_result",
          "data": {
            "text/plain": [
              "[1, 3, 5]"
            ]
          },
          "metadata": {
            "tags": []
          },
          "execution_count": 51
        }
      ]
    },
    {
      "cell_type": "markdown",
      "metadata": {
        "id": "AMnQPPMdWRSo"
      },
      "source": [
        "# Algunas funciones asociadas a listas"
      ]
    },
    {
      "cell_type": "code",
      "metadata": {
        "colab": {
          "base_uri": "https://localhost:8080/"
        },
        "id": "ZySd6zj-SQNS",
        "outputId": "ed9770e1-1718-4441-ad5f-e16bd75859be"
      },
      "source": [
        "#Longitud, agregar y sacar\n",
        "print(len(lista))\n",
        "lista.append(4)\n",
        "print(f'La longitud es {len(lista)} y el último elemento es {lista[-1]}\\n')\n",
        "\n",
        "print(lista.pop())\n",
        "print(f'La longitud es {len(lista)} y el último elemento es {lista[-1]}')"
      ],
      "execution_count": 55,
      "outputs": [
        {
          "output_type": "stream",
          "text": [
            "9\n",
            "La longitud es 10 y el último elemento es 4\n",
            "\n",
            "4\n",
            "La longitud es 9 y el último elemento es 1\n"
          ],
          "name": "stdout"
        }
      ]
    },
    {
      "cell_type": "code",
      "metadata": {
        "colab": {
          "base_uri": "https://localhost:8080/"
        },
        "id": "g49-vYFDhefb",
        "outputId": "25709a1b-e763-496e-f56b-8d323a2975a4"
      },
      "source": [
        "#Insertar en la posición y eliminar la primera aparición\n",
        "lista.insert(1, 'poodle')\n",
        "print(lista)\n",
        "lista.remove('poodle')\n",
        "print(lista)\n",
        "lista.insert(1, 'poodle')\n",
        "print(lista)\n",
        "del lista[1]\n",
        "print(lista)"
      ],
      "execution_count": 56,
      "outputs": [
        {
          "output_type": "stream",
          "text": [
            "[2, 'poodle', 5, 4, 1, 5, 9, 7, 4, 1]\n",
            "[2, 5, 4, 1, 5, 9, 7, 4, 1]\n",
            "[2, 'poodle', 5, 4, 1, 5, 9, 7, 4, 1]\n",
            "[2, 5, 4, 1, 5, 9, 7, 4, 1]\n"
          ],
          "name": "stdout"
        }
      ]
    },
    {
      "cell_type": "code",
      "metadata": {
        "colab": {
          "base_uri": "https://localhost:8080/"
        },
        "id": "9hpbweLEZIEm",
        "outputId": "3aff4f82-c77d-4fff-b191-cb32b42e3616"
      },
      "source": [
        "#Buscar la primera aparición de un elemento\n",
        "print(lista.index(4))\n",
        "\n",
        "#Buscar la primera aparición de un elemento, a partir de la posición n\n",
        "print(lista.index(4,4))"
      ],
      "execution_count": 57,
      "outputs": [
        {
          "output_type": "stream",
          "text": [
            "2\n",
            "7\n"
          ],
          "name": "stdout"
        }
      ]
    },
    {
      "cell_type": "code",
      "metadata": {
        "colab": {
          "base_uri": "https://localhost:8080/",
          "height": 172
        },
        "id": "UfDQwaTTgxCp",
        "outputId": "430a8cc6-8117-47c6-b9a7-32606d516c7d"
      },
      "source": [
        "print(lista.index(10))"
      ],
      "execution_count": 58,
      "outputs": [
        {
          "output_type": "error",
          "ename": "ValueError",
          "evalue": "ignored",
          "traceback": [
            "\u001b[0;31m---------------------------------------------------------------------------\u001b[0m",
            "\u001b[0;31mValueError\u001b[0m                                Traceback (most recent call last)",
            "\u001b[0;32m<ipython-input-58-414de1dcdbae>\u001b[0m in \u001b[0;36m<module>\u001b[0;34m()\u001b[0m\n\u001b[0;32m----> 1\u001b[0;31m \u001b[0mprint\u001b[0m\u001b[0;34m(\u001b[0m\u001b[0mlista\u001b[0m\u001b[0;34m.\u001b[0m\u001b[0mindex\u001b[0m\u001b[0;34m(\u001b[0m\u001b[0;36m10\u001b[0m\u001b[0;34m)\u001b[0m\u001b[0;34m)\u001b[0m\u001b[0;34m\u001b[0m\u001b[0;34m\u001b[0m\u001b[0m\n\u001b[0m",
            "\u001b[0;31mValueError\u001b[0m: 10 is not in list"
          ]
        }
      ]
    },
    {
      "cell_type": "code",
      "metadata": {
        "colab": {
          "base_uri": "https://localhost:8080/"
        },
        "id": "TaQQYgvChJsp",
        "outputId": "d9002341-d996-44e8-aee7-5c3f071316dc"
      },
      "source": [
        "#Está un elemento en la lista?\n",
        "print(4 in lista)\n",
        "print(10 in lista)"
      ],
      "execution_count": 59,
      "outputs": [
        {
          "output_type": "stream",
          "text": [
            "True\n",
            "False\n"
          ],
          "name": "stdout"
        }
      ]
    },
    {
      "cell_type": "code",
      "metadata": {
        "colab": {
          "base_uri": "https://localhost:8080/"
        },
        "id": "KJcWUoVQiY9q",
        "outputId": "04f48229-41d4-4c17-b408-c5e7edb0967e"
      },
      "source": [
        "#Ordernar la lista con sort cambia la lista original\n",
        "lista.sort(reverse=True)\n",
        "for elemento in lista:\n",
        "    print(elemento)"
      ],
      "execution_count": 60,
      "outputs": [
        {
          "output_type": "stream",
          "text": [
            "9\n",
            "7\n",
            "5\n",
            "5\n",
            "4\n",
            "4\n",
            "2\n",
            "1\n",
            "1\n"
          ],
          "name": "stdout"
        }
      ]
    },
    {
      "cell_type": "code",
      "metadata": {
        "colab": {
          "base_uri": "https://localhost:8080/"
        },
        "id": "22oFs7ozko84",
        "outputId": "1864163e-4929-4bbb-8e94-585bf574665e"
      },
      "source": [
        "# Sorted no la cambia\n",
        "lista = [2,5,4,1,5,9,7,4,1]\n",
        "print(sorted(lista))\n",
        "print(lista)"
      ],
      "execution_count": 61,
      "outputs": [
        {
          "output_type": "stream",
          "text": [
            "[1, 1, 2, 4, 4, 5, 5, 7, 9]\n",
            "[2, 5, 4, 1, 5, 9, 7, 4, 1]\n"
          ],
          "name": "stdout"
        }
      ]
    },
    {
      "cell_type": "code",
      "metadata": {
        "id": "Gd-0S3IhkuwL",
        "colab": {
          "base_uri": "https://localhost:8080/"
        },
        "outputId": "6453728c-8519-4182-c8c1-be9600754e1a"
      },
      "source": [
        "lista.reverse()\n",
        "lista"
      ],
      "execution_count": 62,
      "outputs": [
        {
          "output_type": "execute_result",
          "data": {
            "text/plain": [
              "[1, 4, 7, 9, 5, 1, 4, 5, 2]"
            ]
          },
          "metadata": {
            "tags": []
          },
          "execution_count": 62
        }
      ]
    },
    {
      "cell_type": "code",
      "metadata": {
        "colab": {
          "base_uri": "https://localhost:8080/"
        },
        "id": "XXuWx-eJ4dXi",
        "outputId": "98cb21b5-e15d-4f77-dfb5-ad2c29b88dc0"
      },
      "source": [
        "lista[::-1]"
      ],
      "execution_count": 63,
      "outputs": [
        {
          "output_type": "execute_result",
          "data": {
            "text/plain": [
              "[2, 5, 4, 1, 5, 9, 7, 4, 1]"
            ]
          },
          "metadata": {
            "tags": []
          },
          "execution_count": 63
        }
      ]
    },
    {
      "cell_type": "code",
      "metadata": {
        "colab": {
          "base_uri": "https://localhost:8080/"
        },
        "id": "I2DYABPOz5Pf",
        "outputId": "3ac943b8-b935-442d-ae93-78d87692c891"
      },
      "source": [
        "lista.count(1)"
      ],
      "execution_count": 64,
      "outputs": [
        {
          "output_type": "execute_result",
          "data": {
            "text/plain": [
              "2"
            ]
          },
          "metadata": {
            "tags": []
          },
          "execution_count": 64
        }
      ]
    },
    {
      "cell_type": "code",
      "metadata": {
        "colab": {
          "base_uri": "https://localhost:8080/"
        },
        "id": "-i12DtmRnGxV",
        "outputId": "92d6c4a0-894c-491a-984a-5b7fa5fcac46"
      },
      "source": [
        "a = [1,5,9,74]\n",
        "b = [4,4,7,9,4]\n",
        "a.append(b)\n",
        "print(\"Append: \",a)"
      ],
      "execution_count": 65,
      "outputs": [
        {
          "output_type": "stream",
          "text": [
            "Append:  [1, 5, 9, 74, [4, 4, 7, 9, 4]]\n"
          ],
          "name": "stdout"
        }
      ]
    },
    {
      "cell_type": "code",
      "metadata": {
        "colab": {
          "base_uri": "https://localhost:8080/"
        },
        "id": "2uk58pMjwnha",
        "outputId": "1732f915-2ef6-4aa8-cbf1-125eafd3a756"
      },
      "source": [
        "a = [1,5,9,74]\n",
        "b = [4,4,7,9,4]\n",
        "a.extend(b)\n",
        "print(\"Extend: \",a)"
      ],
      "execution_count": 66,
      "outputs": [
        {
          "output_type": "stream",
          "text": [
            "Extend:  [1, 5, 9, 74, 4, 4, 7, 9, 4]\n"
          ],
          "name": "stdout"
        }
      ]
    },
    {
      "cell_type": "code",
      "metadata": {
        "colab": {
          "base_uri": "https://localhost:8080/"
        },
        "id": "DDh6px-R3rPJ",
        "outputId": "14041768-36b9-4f17-9695-fb1c1eaaeb0f"
      },
      "source": [
        "# Otro modo de hacer un extend: \n",
        "a = [1,5,9,74]\n",
        "b = [4,4,7,9,4]\n",
        "a = a + b\n",
        "print(a)"
      ],
      "execution_count": 39,
      "outputs": [
        {
          "output_type": "stream",
          "text": [
            "[1, 5, 9, 74, 4, 4, 7, 9, 4]\n"
          ],
          "name": "stdout"
        }
      ]
    },
    {
      "cell_type": "markdown",
      "metadata": {
        "id": "kTkyM40XWnMt"
      },
      "source": [
        "# Iterando sobre listas"
      ]
    },
    {
      "cell_type": "code",
      "metadata": {
        "colab": {
          "base_uri": "https://localhost:8080/"
        },
        "id": "pz7lHougTjHF",
        "outputId": "c1a069bc-dcca-478a-d265-df3001590404"
      },
      "source": [
        "for elemento in lista:\n",
        "  print(f'{elemento}')"
      ],
      "execution_count": null,
      "outputs": [
        {
          "output_type": "stream",
          "text": [
            "2\n",
            "5\n",
            "4\n",
            "1\n",
            "5\n",
            "9\n",
            "7\n",
            "4\n",
            "1\n"
          ],
          "name": "stdout"
        }
      ]
    },
    {
      "cell_type": "code",
      "metadata": {
        "colab": {
          "base_uri": "https://localhost:8080/"
        },
        "id": "K6NOUKFXUK5t",
        "outputId": "2aa118a6-8afb-4e65-da29-4ac292052652"
      },
      "source": [
        "gente = ['Pedro','Lisa','Maria','Juan']\n",
        "for nombre in gente:\n",
        "  print(nombre)"
      ],
      "execution_count": null,
      "outputs": [
        {
          "output_type": "stream",
          "text": [
            "Pedro\n",
            "Lisa\n",
            "Maria\n",
            "Juan\n"
          ],
          "name": "stdout"
        }
      ]
    },
    {
      "cell_type": "code",
      "metadata": {
        "colab": {
          "base_uri": "https://localhost:8080/"
        },
        "id": "gd-EUns-qojW",
        "outputId": "9d19fb9d-a84b-4872-9055-cacfd8049c4c"
      },
      "source": [
        "min_val = min(lista)\n",
        "max_val = max(lista)\n",
        "total_sum = sum(lista)\n",
        "\n",
        "print(min_val)\n",
        "print(max_val)\n",
        "print(total_sum)"
      ],
      "execution_count": null,
      "outputs": [
        {
          "output_type": "stream",
          "text": [
            "1\n",
            "9\n",
            "38\n"
          ],
          "name": "stdout"
        }
      ]
    },
    {
      "cell_type": "code",
      "metadata": {
        "colab": {
          "base_uri": "https://localhost:8080/"
        },
        "id": "oexJsgEG6MBs",
        "outputId": "351f0758-9456-4db1-9312-aea57b8a7e6f"
      },
      "source": [
        "lista.count(1)"
      ],
      "execution_count": null,
      "outputs": [
        {
          "output_type": "execute_result",
          "data": {
            "text/plain": [
              "2"
            ]
          },
          "metadata": {
            "tags": []
          },
          "execution_count": 82
        }
      ]
    },
    {
      "cell_type": "markdown",
      "metadata": {
        "id": "sZLyQWjFZBle"
      },
      "source": [
        "# Temas avanzados"
      ]
    },
    {
      "cell_type": "markdown",
      "metadata": {
        "id": "eU3zbbEtzFUF"
      },
      "source": [
        "## Operaciones con lista e iteradores"
      ]
    },
    {
      "cell_type": "code",
      "metadata": {
        "colab": {
          "base_uri": "https://localhost:8080/"
        },
        "id": "JMgeI8TPUpxK",
        "outputId": "0b205bb3-3dd6-4229-f6da-0db20e7e0398"
      },
      "source": [
        "for posicion,nombre in enumerate(gente):\n",
        "  print(f'El {posicion} fue {nombre}')"
      ],
      "execution_count": null,
      "outputs": [
        {
          "output_type": "stream",
          "text": [
            "El 0 fue Pedro\n",
            "El 1 fue Lisa\n",
            "El 2 fue Maria\n",
            "El 3 fue Juan\n"
          ],
          "name": "stdout"
        }
      ]
    },
    {
      "cell_type": "markdown",
      "metadata": {
        "id": "4TOe2R9prUoz"
      },
      "source": [
        "## List Comprehension"
      ]
    },
    {
      "cell_type": "code",
      "metadata": {
        "colab": {
          "base_uri": "https://localhost:8080/"
        },
        "id": "C0SENfYIr2Iu",
        "outputId": "f42bc021-bf4c-4898-99bc-56f3b7472fef"
      },
      "source": [
        "# Mostrar el cuadrado de los primeros 10 numeros\n",
        "squares = []\n",
        "\n",
        "for number in range(1,11):\n",
        "    new_square = number**2\n",
        "    squares.append(new_square)\n",
        "\n",
        "for square in squares:\n",
        "    print(square)"
      ],
      "execution_count": null,
      "outputs": [
        {
          "output_type": "stream",
          "text": [
            "1\n",
            "4\n",
            "9\n",
            "16\n",
            "25\n",
            "36\n",
            "49\n",
            "64\n",
            "81\n",
            "100\n"
          ],
          "name": "stdout"
        }
      ]
    },
    {
      "cell_type": "code",
      "metadata": {
        "colab": {
          "base_uri": "https://localhost:8080/"
        },
        "id": "U3PNB9lGrRGQ",
        "outputId": "926c9525-51bf-4c3a-e28b-3f1145bb94a8"
      },
      "source": [
        "# Mostrar el cuadrado de los primeros 10 numeros\n",
        "squares = []\n",
        "\n",
        "for number in range(1,11):\n",
        "    squares.append(number**2)\n",
        "    \n",
        "for square in squares:\n",
        "    print(square)"
      ],
      "execution_count": null,
      "outputs": [
        {
          "output_type": "stream",
          "text": [
            "1\n",
            "4\n",
            "9\n",
            "16\n",
            "25\n",
            "36\n",
            "49\n",
            "64\n",
            "81\n",
            "100\n"
          ],
          "name": "stdout"
        }
      ]
    },
    {
      "cell_type": "code",
      "metadata": {
        "colab": {
          "base_uri": "https://localhost:8080/"
        },
        "id": "xUAc-o5QrfUh",
        "outputId": "1cfc1f14-cf76-4026-b894-92659eafd907"
      },
      "source": [
        "squares = [number**2 for number in range(1,11)]\n",
        "\n",
        "for square in squares:\n",
        "    print(square)"
      ],
      "execution_count": null,
      "outputs": [
        {
          "output_type": "stream",
          "text": [
            "1\n",
            "4\n",
            "9\n",
            "16\n",
            "25\n",
            "36\n",
            "49\n",
            "64\n",
            "81\n",
            "100\n"
          ],
          "name": "stdout"
        }
      ]
    },
    {
      "cell_type": "code",
      "metadata": {
        "colab": {
          "base_uri": "https://localhost:8080/"
        },
        "id": "cGx4GKF9sKrt",
        "outputId": "d596cc9b-e258-4d2b-a9a6-30d9a5428899"
      },
      "source": [
        "# Con texto: \n",
        "\n",
        "students = ['bernice', 'aaron', 'cody']\n",
        "\n",
        "great_students = []\n",
        "for student in students:\n",
        "    great_students.append(student.title() + \" the great!\")\n",
        "\n",
        "for great_student in great_students:\n",
        "    print(\"Hello, \" + great_student)"
      ],
      "execution_count": null,
      "outputs": [
        {
          "output_type": "stream",
          "text": [
            "Hello, Bernice the great!\n",
            "Hello, Aaron the great!\n",
            "Hello, Cody the great!\n"
          ],
          "name": "stdout"
        }
      ]
    },
    {
      "cell_type": "code",
      "metadata": {
        "colab": {
          "base_uri": "https://localhost:8080/"
        },
        "id": "GbKZYcqYsQYU",
        "outputId": "218ba30f-9687-47c6-b3fe-a1edb28473b3"
      },
      "source": [
        "students = ['bernice', 'aaron', 'cody']\n",
        "\n",
        "great_students = [student.title() + \" the great!\" for student in students]\n",
        "\n",
        "for great_student in great_students:\n",
        "    print(\"Hello, \" + great_student)"
      ],
      "execution_count": null,
      "outputs": [
        {
          "output_type": "stream",
          "text": [
            "Hello, Bernice the great!\n",
            "Hello, Aaron the great!\n",
            "Hello, Cody the great!\n"
          ],
          "name": "stdout"
        }
      ]
    },
    {
      "cell_type": "code",
      "metadata": {
        "colab": {
          "base_uri": "https://localhost:8080/"
        },
        "id": "2-FTtZ-D9yRP",
        "outputId": "56eeae06-f3a8-4a88-9b36-a767310b5778"
      },
      "source": [
        "vec = [-4, -2, 0, 2, 4]\n",
        "print([x for x in vec if x >= 0])"
      ],
      "execution_count": 67,
      "outputs": [
        {
          "output_type": "stream",
          "text": [
            "[0, 2, 4]\n"
          ],
          "name": "stdout"
        }
      ]
    },
    {
      "cell_type": "code",
      "metadata": {
        "colab": {
          "base_uri": "https://localhost:8080/"
        },
        "id": "O301s_2r-CXG",
        "outputId": "d89117e5-6842-4eaf-8b90-09f9701223e4"
      },
      "source": [
        "print([(x, x**2) for x in range(6)])"
      ],
      "execution_count": 68,
      "outputs": [
        {
          "output_type": "stream",
          "text": [
            "[(0, 0), (1, 1), (2, 4), (3, 9), (4, 16), (5, 25)]\n"
          ],
          "name": "stdout"
        }
      ]
    },
    {
      "cell_type": "code",
      "metadata": {
        "colab": {
          "base_uri": "https://localhost:8080/"
        },
        "id": "RRpbTRii-O8k",
        "outputId": "fd0d36e3-23a9-4626-e5f2-6a1efc7d842c"
      },
      "source": [
        "vec = [[1,2,3], [4,5,6], [7,8,9]]\n",
        "[num for elem in vec for num in elem]"
      ],
      "execution_count": 69,
      "outputs": [
        {
          "output_type": "execute_result",
          "data": {
            "text/plain": [
              "[1, 2, 3, 4, 5, 6, 7, 8, 9]"
            ]
          },
          "metadata": {
            "tags": []
          },
          "execution_count": 69
        }
      ]
    },
    {
      "cell_type": "markdown",
      "metadata": {
        "id": "3lONzgnNzONB"
      },
      "source": [
        "## Copiado de listas"
      ]
    },
    {
      "cell_type": "code",
      "metadata": {
        "colab": {
          "base_uri": "https://localhost:8080/"
        },
        "id": "ER8pMCS6zRB9",
        "outputId": "2062e686-30ab-41d3-8def-e7b68e198f26"
      },
      "source": [
        "lista= [2,1,4,3]\n",
        "listb = lista\n",
        "print(listb) \n",
        "\n",
        "lista.pop()\n",
        "print(lista)\n",
        "lista.append(9)\n",
        "print(lista)"
      ],
      "execution_count": 31,
      "outputs": [
        {
          "output_type": "stream",
          "text": [
            "[2, 1, 4, 3]\n",
            "[2, 1, 4]\n",
            "[2, 1, 4, 9]\n"
          ],
          "name": "stdout"
        }
      ]
    },
    {
      "cell_type": "markdown",
      "metadata": {
        "id": "p6HQclEmzgx6"
      },
      "source": [
        "¿Cual será el valor de \n",
        "\n",
        "```\n",
        "print(listb)\n",
        "```\n",
        "?\n"
      ]
    },
    {
      "cell_type": "code",
      "metadata": {
        "id": "hfdEHU2gzpSW"
      },
      "source": [
        "listb = lista[:]\n",
        "listb = lista.copy()"
      ],
      "execution_count": null,
      "outputs": []
    },
    {
      "cell_type": "markdown",
      "metadata": {
        "id": "1KCxmi340euo"
      },
      "source": [
        "# Tupla"
      ]
    },
    {
      "cell_type": "code",
      "metadata": {
        "colab": {
          "base_uri": "https://localhost:8080/",
          "height": 191
        },
        "id": "dUdfq3RQ0Xtp",
        "outputId": "99331ad4-3842-4f13-cd26-15e3a2069caf"
      },
      "source": [
        "a = (1,3)\n",
        "a[0] = 4"
      ],
      "execution_count": 36,
      "outputs": [
        {
          "output_type": "error",
          "ename": "TypeError",
          "evalue": "ignored",
          "traceback": [
            "\u001b[0;31m---------------------------------------------------------------------------\u001b[0m",
            "\u001b[0;31mTypeError\u001b[0m                                 Traceback (most recent call last)",
            "\u001b[0;32m<ipython-input-36-6a6addd598cb>\u001b[0m in \u001b[0;36m<module>\u001b[0;34m()\u001b[0m\n\u001b[1;32m      1\u001b[0m \u001b[0ma\u001b[0m \u001b[0;34m=\u001b[0m \u001b[0;34m(\u001b[0m\u001b[0;36m1\u001b[0m\u001b[0;34m,\u001b[0m\u001b[0;36m3\u001b[0m\u001b[0;34m)\u001b[0m\u001b[0;34m\u001b[0m\u001b[0;34m\u001b[0m\u001b[0m\n\u001b[0;32m----> 2\u001b[0;31m \u001b[0ma\u001b[0m\u001b[0;34m[\u001b[0m\u001b[0;36m0\u001b[0m\u001b[0;34m]\u001b[0m \u001b[0;34m=\u001b[0m \u001b[0;36m4\u001b[0m\u001b[0;34m\u001b[0m\u001b[0;34m\u001b[0m\u001b[0m\n\u001b[0m",
            "\u001b[0;31mTypeError\u001b[0m: 'tuple' object does not support item assignment"
          ]
        }
      ]
    }
  ]
}