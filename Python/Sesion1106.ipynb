{
  "nbformat": 4,
  "nbformat_minor": 0,
  "metadata": {
    "colab": {
      "name": "Sesion1106.ipynb",
      "provenance": [],
      "authorship_tag": "ABX9TyM+3VnoDu8Z3dN0jrmTiyJP",
      "include_colab_link": true
    },
    "kernelspec": {
      "display_name": "Python 3",
      "name": "python3"
    },
    "language_info": {
      "name": "python"
    }
  },
  "cells": [
    {
      "cell_type": "markdown",
      "metadata": {
        "id": "view-in-github",
        "colab_type": "text"
      },
      "source": [
        "<a href=\"https://colab.research.google.com/github/rsconsuegra/MisionTIC2021/blob/main/Sesion1106.ipynb\" target=\"_parent\"><img src=\"https://colab.research.google.com/assets/colab-badge.svg\" alt=\"Open In Colab\"/></a>"
      ]
    },
    {
      "cell_type": "code",
      "metadata": {
        "colab": {
          "base_uri": "https://localhost:8080/"
        },
        "id": "erwve1Q-nP_q",
        "outputId": "752a1ef4-cffc-4a1d-dddd-71e71b84a103"
      },
      "source": [
        "A = []\n",
        "vec = input().split()\n",
        "A.append(vec)\n",
        "\n",
        "vec = input().split()\n",
        "A.append(vec)\n"
      ],
      "execution_count": null,
      "outputs": [
        {
          "output_type": "stream",
          "text": [
            "4 5 6 9 7 4\n",
            "4 52 8 9 4 1\n"
          ],
          "name": "stdout"
        }
      ]
    },
    {
      "cell_type": "code",
      "metadata": {
        "colab": {
          "base_uri": "https://localhost:8080/"
        },
        "id": "Jiyt1CyfncxA",
        "outputId": "1d12339a-bcff-409f-cbc9-097a3c551f6e"
      },
      "source": [
        "A"
      ],
      "execution_count": null,
      "outputs": [
        {
          "output_type": "execute_result",
          "data": {
            "text/plain": [
              "[['4', '5', '6', '9', '7', '4'], ['4', '52', '8', '9', '4', '1']]"
            ]
          },
          "metadata": {
            "tags": []
          },
          "execution_count": 4
        }
      ]
    },
    {
      "cell_type": "code",
      "metadata": {
        "id": "L-8mpmpfrRIp"
      },
      "source": [
        "candidatos = int(input())\n",
        "def etnia():\n",
        "  entrada = int(input())\n",
        "  A = []\n",
        "  \n",
        "  for i in range(etnia):\n",
        "        \n",
        "\n",
        "etnia()"
      ],
      "execution_count": null,
      "outputs": []
    },
    {
      "cell_type": "code",
      "metadata": {
        "colab": {
          "base_uri": "https://localhost:8080/"
        },
        "id": "mZwZ6xv_s2hQ",
        "outputId": "e45a312b-8f0b-401a-e2b1-41084e6e3e97"
      },
      "source": [
        "candidatos = int(input())\n",
        "A = []\n",
        "\n",
        "for i in range(candidatos):\n",
        "  entrada = input().split()\n",
        "  A.append(entrada)\n",
        "\n",
        "for i in range(candidatos):\n",
        "  for j in range(5):\n",
        "    A[i][j] = int(A[i][j])\n",
        "\n",
        "print(A)"
      ],
      "execution_count": null,
      "outputs": [
        {
          "output_type": "stream",
          "text": [
            "2\n",
            "1 2 3 4 5\n",
            "9 8 7 6 5\n",
            "[[1, 2, 3, 4, 5], [9, 8, 7, 6, 5]]\n"
          ],
          "name": "stdout"
        }
      ]
    },
    {
      "cell_type": "code",
      "metadata": {
        "colab": {
          "base_uri": "https://localhost:8080/"
        },
        "id": "KGvezXI5x9H3",
        "outputId": "3bfe3eb3-8739-4b47-d044-83a5567cc4fb"
      },
      "source": [
        "candidatos = int(input())\n",
        "A = []\n",
        "\n",
        "for i in range(candidatos):\n",
        "  entrada = input().split()\n",
        "  for indice in range(5):\n",
        "    entrada[indice] = int(entrada[indice]) \n",
        "  A.append(entrada)\n",
        "\n",
        "\n",
        "print(A)"
      ],
      "execution_count": null,
      "outputs": [
        {
          "output_type": "stream",
          "text": [
            "2\n",
            "1 2 3 4 5\n",
            "9 8 7 6 5\n",
            "[[1, 2, 3, 4, 5], [9, 8, 7, 6, 5]]\n"
          ],
          "name": "stdout"
        }
      ]
    },
    {
      "cell_type": "code",
      "metadata": {
        "colab": {
          "base_uri": "https://localhost:8080/"
        },
        "id": "xR8H52wj0gQx",
        "outputId": "c63dfb3c-3f93-4937-9e69-1eaec6e0878f"
      },
      "source": [
        "def get_column(mat,index):\n",
        "  return [row[index] for row in mat]\n",
        "get_column(A,1)"
      ],
      "execution_count": 37,
      "outputs": [
        {
          "output_type": "execute_result",
          "data": {
            "text/plain": [
              "[1, 2]"
            ]
          },
          "metadata": {
            "tags": []
          },
          "execution_count": 37
        }
      ]
    }
  ]
}