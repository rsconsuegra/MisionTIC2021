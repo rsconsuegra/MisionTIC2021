{
  "nbformat": 4,
  "nbformat_minor": 0,
  "metadata": {
    "colab": {
      "name": "Untitled5.ipynb",
      "provenance": [],
      "authorship_tag": "ABX9TyOdTvC5okphhNgO1C7RL9lz",
      "include_colab_link": true
    },
    "kernelspec": {
      "name": "python3",
      "display_name": "Python 3"
    },
    "language_info": {
      "name": "python"
    }
  },
  "cells": [
    {
      "cell_type": "markdown",
      "metadata": {
        "id": "view-in-github",
        "colab_type": "text"
      },
      "source": [
        "<a href=\"https://colab.research.google.com/github/rsconsuegra/MisionTIC2021/blob/main/MatProm.ipynb\" target=\"_parent\"><img src=\"https://colab.research.google.com/assets/colab-badge.svg\" alt=\"Open In Colab\"/></a>"
      ]
    },
    {
      "cell_type": "code",
      "metadata": {
        "id": "hV6PpQp3kPyv"
      },
      "source": [
        "def pretty_print(mat: List[List[int]], nf: int, nc:int )-> None:\n",
        "  \"\"\"\n",
        "  Prints a matrix in terminal, in a pretty format. \n",
        "\n",
        "  Parameters\n",
        "  ----------\n",
        "  mat :  A list of list of integers, asumming \n",
        "         all lists are of the same size\n",
        "  nf  :  Scalar indicating the number of rows\n",
        "  nc  :  Scalar indicating the number of columns  \n",
        "\n",
        "  Returns\n",
        "  -------\n",
        "    None\n",
        "  \"\"\"\n",
        "  print(\"La matriz es:\")\n",
        "  for i in range(nf):\n",
        "    for j in range(nc):\n",
        "      print(mat[i][j],end=\" \")\n",
        "    print(\"\")"
      ],
      "execution_count": 20,
      "outputs": []
    },
    {
      "cell_type": "code",
      "metadata": {
        "colab": {
          "base_uri": "https://localhost:8080/"
        },
        "id": "Jct9QKlzc295",
        "outputId": "f33d4e2b-32ac-4788-8dcd-e4bdd034cd5c"
      },
      "source": [
        "\"\"\"\n",
        "Creemos ahora una función crearMatriz(m,n) que genere una matriz de M * N \n",
        "con números aleatorios entre 0 y 9 y la retorne. \n",
        "Creemos también una función calcularPromedio(T) que, \n",
        "dada una matriz T, genere un promedio de todos sus elementos y lo retorne. \n",
        "Finalmente una función actividad2(m,n) que llame a crearMatriz, \n",
        "pase esa matriz a calcularPromedio(T) y que genere una matriz \n",
        "que tenga el valor 1 en aquellas posiciones donde el valor sea \n",
        "mayor o igual al promedio en T y cero (0) donde el valor de la posición \n",
        "en T sea menor que el promedio.\n",
        "Imprimir ambas matrices.\n",
        "\n",
        "\"\"\"\n",
        "from typing import List,Tuple\n",
        "from random import choices,randint\n",
        "\n",
        "nf: int = 3\n",
        "nc: int = 3\n",
        "A: List[List[int]] = []\n",
        "upper_bound: int = 9\n",
        "\n",
        "for j in range(nf):\n",
        "  A.append(choices(range(upper_bound+1), k=nc))\n",
        "A"
      ],
      "execution_count": 22,
      "outputs": [
        {
          "output_type": "execute_result",
          "data": {
            "text/plain": [
              "[[8, 3, 1], [6, 2, 3], [6, 3, 0]]"
            ]
          },
          "metadata": {
            "tags": []
          },
          "execution_count": 22
        }
      ]
    },
    {
      "cell_type": "code",
      "metadata": {
        "colab": {
          "base_uri": "https://localhost:8080/"
        },
        "id": "6C99u0A6hIrt",
        "outputId": "b280b52c-ef66-447b-d153-8b9bbe6aa448"
      },
      "source": [
        "sumatoria = 0\n",
        "for i in range(nf):\n",
        "  sumatoria = sumatoria + sum(A[i])\n",
        "sumatoria/(nf*nc)"
      ],
      "execution_count": 23,
      "outputs": [
        {
          "output_type": "execute_result",
          "data": {
            "text/plain": [
              "3.5555555555555554"
            ]
          },
          "metadata": {
            "tags": []
          },
          "execution_count": 23
        }
      ]
    },
    {
      "cell_type": "code",
      "metadata": {
        "id": "DFquNiwOhreR"
      },
      "source": [
        "sumatoria = 0\n",
        "contador = 0\n",
        "for i in range(nf):\n",
        "  for j in range(nc):\n",
        "    sumatoria = sumatoria + A[i][j]\n",
        "    contador = contador + 1\n",
        "\n",
        "promedio = sumatoria/contador"
      ],
      "execution_count": 24,
      "outputs": []
    },
    {
      "cell_type": "code",
      "metadata": {
        "colab": {
          "base_uri": "https://localhost:8080/"
        },
        "id": "rlJiyUfhiGWs",
        "outputId": "06f631af-f88f-43da-9a81-99eedb64f7a8"
      },
      "source": [
        "pretty_print(A,nf,nc)\n",
        "for i in range(nf):\n",
        "  for j in range(nc):\n",
        "    if A[i][j]>= promedio:\n",
        "      A[i][j] = 1\n",
        "    else:\n",
        "      A[i][j] = 0\n",
        "\n",
        "pretty_print(A,nf,nc)"
      ],
      "execution_count": 26,
      "outputs": [
        {
          "output_type": "stream",
          "text": [
            "La matriz es:\n",
            "8 3 1 \n",
            "6 2 3 \n",
            "6 3 0 \n",
            "La matriz es:\n",
            "1 0 0 \n",
            "1 0 0 \n",
            "1 0 0 \n"
          ],
          "name": "stdout"
        }
      ]
    }
  ]
}