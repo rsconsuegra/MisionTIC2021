{
  "nbformat": 4,
  "nbformat_minor": 0,
  "metadata": {
    "colab": {
      "name": "Bidimensional.ipynb",
      "provenance": [],
      "collapsed_sections": [],
      "authorship_tag": "ABX9TyPD/zQyaKUpnMxi1OwSfp/f",
      "include_colab_link": true
    },
    "kernelspec": {
      "name": "python3",
      "display_name": "Python 3"
    },
    "language_info": {
      "name": "python"
    }
  },
  "cells": [
    {
      "cell_type": "markdown",
      "metadata": {
        "id": "view-in-github",
        "colab_type": "text"
      },
      "source": [
        "<a href=\"https://colab.research.google.com/github/rsconsuegra/MisionTIC2021/blob/main/Bidimensional.ipynb\" target=\"_parent\"><img src=\"https://colab.research.google.com/assets/colab-badge.svg\" alt=\"Open In Colab\"/></a>"
      ]
    },
    {
      "cell_type": "code",
      "metadata": {
        "id": "OwdfG_WFYozm"
      },
      "source": [
        "from typing import List,Tuple"
      ],
      "execution_count": null,
      "outputs": []
    },
    {
      "cell_type": "markdown",
      "metadata": {
        "id": "s46VWdrfWX8s"
      },
      "source": [
        "# Diferentes modos de lectura\n"
      ]
    },
    {
      "cell_type": "code",
      "metadata": {
        "id": "WVNl-bCNgCIa"
      },
      "source": [
        "def pretty_print(mat: List[List[int]], nf: int, nc:int )-> None:\n",
        "  \"\"\"\n",
        "  Prints a matrix in terminal, in a pretty format. \n",
        "\n",
        "  Parameters\n",
        "  ----------\n",
        "  mat :  A list of list of integers, asumming \n",
        "         all lists are of the same size\n",
        "  nf  :  Scalar indicating the number of rows\n",
        "  nc  :  Scalar indicating the number of columns  \n",
        "\n",
        "  Returns\n",
        "  -------\n",
        "    None\n",
        "  \"\"\"\n",
        "  print(\"La matriz es:\")\n",
        "  for i in range(nf):\n",
        "    for j in range(nc):\n",
        "      print(mat[i][j],end=\" \")\n",
        "    print(\"\")"
      ],
      "execution_count": null,
      "outputs": []
    },
    {
      "cell_type": "code",
      "metadata": {
        "colab": {
          "base_uri": "https://localhost:8080/"
        },
        "id": "onZYoVGFbAlq",
        "outputId": "12e57c89-879d-4f3d-fcd7-ffff32df2936"
      },
      "source": [
        "# Ir agregando elementos directamente con append e indices\n",
        "A: List[List[int]]= []\n",
        "nf: int = int(input())\n",
        "nc: int = int(input())\n",
        "\n",
        "for i in range(nf):\n",
        "  A.append([])\n",
        "  for j in range(nc):\n",
        "    elemento: int = int(input(f'Ingrese valor en posicion {i}-{j}: '))\n",
        "    A[i].append(elemento)\n",
        "\n",
        "pretty_print(A,nf,nc)"
      ],
      "execution_count": null,
      "outputs": [
        {
          "output_type": "stream",
          "text": [
            "3\n",
            "3\n",
            "Ingrese valor en posicion 0-0: 4\n",
            "Ingrese valor en posicion 0-1: 2\n",
            "Ingrese valor en posicion 0-2: 6\n",
            "Ingrese valor en posicion 1-0: 9\n",
            "Ingrese valor en posicion 1-1: 7\n",
            "Ingrese valor en posicion 1-2: 1\n",
            "Ingrese valor en posicion 2-0: 2\n",
            "Ingrese valor en posicion 2-1: 3\n",
            "Ingrese valor en posicion 2-2: 4\n",
            "La matriz es:\n",
            "4 2 6 \n",
            "9 7 1 \n",
            "2 3 4 \n"
          ],
          "name": "stdout"
        }
      ]
    },
    {
      "cell_type": "code",
      "metadata": {
        "colab": {
          "base_uri": "https://localhost:8080/"
        },
        "id": "H4pfjkbbhMiZ",
        "outputId": "da60ce8f-beee-4a35-f6ea-284f5c8eb8c8"
      },
      "source": [
        "# Ir agregando elementos a una lista auxiliar y luego agregarla a la matriz\n",
        "A: List[List[int]]= []\n",
        "nf: int = int(input())\n",
        "nc: int = int(input())\n",
        "\n",
        "for i in range(nf):\n",
        "  v: List[int] = []\n",
        "  for j in range(nc):\n",
        "    elemento: int = int(input(f'Ingrese valor en posicion {i}-{j}: '))\n",
        "    v.append(elemento)\n",
        "  A.append(v)\n",
        "pretty_print(A,nf,nc)"
      ],
      "execution_count": null,
      "outputs": [
        {
          "output_type": "stream",
          "text": [
            "2\n",
            "2\n",
            "Ingrese valor en posicion 0-03\n",
            "Ingrese valor en posicion 0-14\n",
            "Ingrese valor en posicion 1-09\n",
            "Ingrese valor en posicion 1-15\n",
            "La matriz es:\n",
            "3 4 \n",
            "\n",
            "9 5 \n",
            "\n"
          ],
          "name": "stdout"
        }
      ]
    },
    {
      "cell_type": "code",
      "metadata": {
        "colab": {
          "base_uri": "https://localhost:8080/"
        },
        "id": "NMvwokJNf9tk",
        "outputId": "b5f57213-8d5b-4c9d-8b5d-dab221c76f1f"
      },
      "source": [
        "#Inicializando la matriz en 0's (usando list comprehension)\n",
        "nf: int = int(input())\n",
        "nc: int = int(input())\n",
        "A: List[List[int]] = [[0 for j in range(nf)]for i in range(nc)] \n",
        "\n",
        "for i in range(nf):\n",
        "  for j in range(nc):\n",
        "    elemento: int = int(input(f'Ingrese valor en posicion {i}-{j}: '))\n",
        "    A[i][j] = elemento\n",
        "\n",
        "pretty_print(A,nf,nc)"
      ],
      "execution_count": null,
      "outputs": [
        {
          "output_type": "stream",
          "text": [
            "2\n",
            "2\n",
            "Ingrese valor en posicion 0-04\n",
            "Ingrese valor en posicion 0-16\n",
            "Ingrese valor en posicion 1-07\n",
            "Ingrese valor en posicion 1-18\n",
            "La matriz es:\n",
            "4 6 \n",
            "\n",
            "7 8 \n",
            "\n"
          ],
          "name": "stdout"
        }
      ]
    },
    {
      "cell_type": "code",
      "metadata": {
        "colab": {
          "base_uri": "https://localhost:8080/"
        },
        "id": "DeqbEkeNdSBq",
        "outputId": "599fdec8-192a-4c59-a4dc-4976790114cc"
      },
      "source": [
        "#Ir agregando fila por fila, usando un mapeo\n",
        "A: List[List[int]]= []\n",
        "nf: int = int(input())\n",
        "nc: int = int(input())\n",
        "\n",
        "for i in range(nf):\n",
        "  elemento: List[int] = list(map(int,input().split()))\n",
        "  A.append(elemento)\n",
        "pretty_print(A,nf,nc)"
      ],
      "execution_count": null,
      "outputs": [
        {
          "output_type": "stream",
          "text": [
            "2\n",
            "2\n",
            "2 3\n",
            "4 5\n",
            "La matriz es:\n",
            "2 3 \n",
            "4 5 \n"
          ],
          "name": "stdout"
        }
      ]
    },
    {
      "cell_type": "markdown",
      "metadata": {
        "id": "PjWrBEu2ikSJ"
      },
      "source": [
        "# Numeros aleatorios y matrices\n",
        "\n"
      ]
    },
    {
      "cell_type": "code",
      "metadata": {
        "colab": {
          "base_uri": "https://localhost:8080/"
        },
        "id": "yPay8UN2gwk4",
        "outputId": "2645a18d-f7dd-420b-e456-e34632e7fc12"
      },
      "source": [
        "from random import choice\n",
        "pendiente = [4]\n",
        "def numAleatorio():\n",
        "  pendiente.append(choice([i for i in range(1,100) if i not in pendiente]))  \n",
        "\n",
        "numAleatorio()\n",
        "print(pendiente)"
      ],
      "execution_count": null,
      "outputs": [
        {
          "output_type": "stream",
          "text": [
            "[4, 53]\n"
          ],
          "name": "stdout"
        }
      ]
    },
    {
      "cell_type": "code",
      "metadata": {
        "colab": {
          "base_uri": "https://localhost:8080/"
        },
        "id": "2u1engNqizYC",
        "outputId": "ed9af89f-0e2e-45f1-be76-4b93cb432eb3"
      },
      "source": [
        "from random import choices\n",
        "\n",
        "nf: int = 5\n",
        "nc: int = 10\n",
        "A: List[List[int]] = []\n",
        "upper_bound: int = 100\n",
        "\n",
        "for j in range(nf):\n",
        "  A.append(choices(range(upper_bound+1), k=nc))\n",
        "A"
      ],
      "execution_count": null,
      "outputs": [
        {
          "output_type": "execute_result",
          "data": {
            "text/plain": [
              "[[61, 10, 38, 72, 16, 18, 93, 97, 94, 98],\n",
              " [95, 87, 19, 22, 35, 41, 74, 89, 97, 52],\n",
              " [44, 56, 28, 80, 93, 73, 54, 1, 66, 29],\n",
              " [87, 68, 71, 32, 16, 93, 93, 67, 80, 52],\n",
              " [72, 32, 87, 85, 21, 75, 30, 94, 91, 75]]"
            ]
          },
          "metadata": {
            "tags": []
          },
          "execution_count": 49
        }
      ]
    },
    {
      "cell_type": "code",
      "metadata": {
        "colab": {
          "base_uri": "https://localhost:8080/"
        },
        "id": "2mvK0jrJkjTT",
        "outputId": "92e66943-6675-4158-9c4f-149c78b6f64c"
      },
      "source": [
        "def arg_max(mat: List[List[int]])-> Tuple[int,str]:\n",
        "  list_max: List[int] = max(mat)\n",
        "  max_item: int = max(list_max)\n",
        "\n",
        "  i_index: int = mat.index(list_max)\n",
        "  j_index: int = mat[i_index].index(max_item)\n",
        "  coordinates: str = f'({i_index},{j_index})'\n",
        "  return max_item,coordinates\n",
        "\n",
        "maximum,coord = arg_max(A)\n",
        "print(f'El maximo es {maximum} y su coordenada es {coord}')"
      ],
      "execution_count": null,
      "outputs": [
        {
          "output_type": "stream",
          "text": [
            "El maximo es 87 y su coordenada es (2,3)\n"
          ],
          "name": "stdout"
        }
      ]
    },
    {
      "cell_type": "code",
      "metadata": {
        "colab": {
          "base_uri": "https://localhost:8080/"
        },
        "id": "zbFFkDZ1juGf",
        "outputId": "2f77cf16-49e1-4e87-83b2-b086d3490d41"
      },
      "source": [
        "max_elem = max(max(A))\n",
        "found = False\n",
        "for i in range(nf):\n",
        "  for j in range(nc):\n",
        "    if A[i][j] == max_elem:\n",
        "      found = True\n",
        "      print(f\"Las coordenadas son {i},{j}\")\n",
        "      break\n",
        "  if found:\n",
        "    break"
      ],
      "execution_count": null,
      "outputs": [
        {
          "output_type": "stream",
          "text": [
            "Las coordenadas son 0,7\n"
          ],
          "name": "stdout"
        }
      ]
    },
    {
      "cell_type": "code",
      "metadata": {
        "colab": {
          "base_uri": "https://localhost:8080/"
        },
        "id": "9CcpZ-Ysn1YF",
        "outputId": "8d77aa4a-5a97-4018-b3b0-781ac16652f0"
      },
      "source": [
        "max_elem = max(max(A))\n",
        "for i in range(nf):\n",
        "  if max_elem in A[i]:\n",
        "    j = A[i].index(max_elem)\n",
        "    print(f\"Las coordenadas son {i},{j}\")\n",
        "    break"
      ],
      "execution_count": null,
      "outputs": [
        {
          "output_type": "stream",
          "text": [
            "Las coordenadas son 0,7\n"
          ],
          "name": "stdout"
        }
      ]
    },
    {
      "cell_type": "code",
      "metadata": {
        "colab": {
          "base_uri": "https://localhost:8080/"
        },
        "id": "K-C_BxQ5kYXL",
        "outputId": "4d1c8ba0-7d2b-409b-bf35-51d4f67250ad"
      },
      "source": [
        "import numpy as np\n",
        "\n",
        "numpy_v = np.random.randint(low=1,high=100+1, size=(5,10))\n",
        "print(numpy_v)"
      ],
      "execution_count": null,
      "outputs": [
        {
          "output_type": "stream",
          "text": [
            "[[32 54 86 69 10 44 75 10 59 13]\n",
            " [36 58  9 34 59 33  5  4 58 88]\n",
            " [54 83 40 57 59 32 52 30  1 63]\n",
            " [ 7  3 99 82 46 68 37 88 14 42]\n",
            " [44 23 46 27 76  3  8 20 40 43]]\n"
          ],
          "name": "stdout"
        }
      ]
    },
    {
      "cell_type": "code",
      "metadata": {
        "colab": {
          "base_uri": "https://localhost:8080/"
        },
        "id": "D3vNBA6ArJNn",
        "outputId": "87e573a6-262e-41e8-9d5b-b38c5407ad2c"
      },
      "source": [
        "print(numpy_v.max())\n",
        "position = np.where(numpy_v==numpy_v.max())\n",
        "print(f'{position[0][0]},{position[1][0]}')"
      ],
      "execution_count": null,
      "outputs": [
        {
          "output_type": "stream",
          "text": [
            "99\n",
            "3,2\n"
          ],
          "name": "stdout"
        }
      ]
    },
    {
      "cell_type": "code",
      "metadata": {
        "colab": {
          "base_uri": "https://localhost:8080/"
        },
        "id": "VtoGoU8ZrLZ_",
        "outputId": "ee7f7a02-8b8b-4596-c82a-170912c46153"
      },
      "source": [
        "print(numpy_v.max())\n",
        "print(f'{np.unravel_index(numpy_v.argmax(), numpy_v.shape)}')"
      ],
      "execution_count": null,
      "outputs": [
        {
          "output_type": "stream",
          "text": [
            "99\n",
            "(3, 2)\n"
          ],
          "name": "stdout"
        }
      ]
    },
    {
      "cell_type": "code",
      "metadata": {
        "colab": {
          "base_uri": "https://localhost:8080/"
        },
        "id": "jYNKvx2CqWQL",
        "outputId": "9f267a79-f14e-48c5-dfec-0df37d60efeb"
      },
      "source": [
        "np.where(numpy_v==numpy_v.max())"
      ],
      "execution_count": null,
      "outputs": [
        {
          "output_type": "execute_result",
          "data": {
            "text/plain": [
              "(array([2]), array([3]))"
            ]
          },
          "metadata": {
            "tags": []
          },
          "execution_count": 64
        }
      ]
    },
    {
      "cell_type": "code",
      "metadata": {
        "colab": {
          "base_uri": "https://localhost:8080/"
        },
        "id": "VbYNVk30kvAl",
        "outputId": "1f666693-1d3b-4d56-9b35-bc5e3d7f0c4c"
      },
      "source": [
        "numpy_v.max()\n",
        "col = np.argmax(numpy_v,axis=0)\n",
        "fila = np.argmax(numpy_v,axis=1)\n",
        "print(f'{fila}-{col}')"
      ],
      "execution_count": null,
      "outputs": [
        {
          "output_type": "stream",
          "text": [
            "[2 2 1]-[1 2 1]\n"
          ],
          "name": "stdout"
        }
      ]
    },
    {
      "cell_type": "code",
      "metadata": {
        "colab": {
          "base_uri": "https://localhost:8080/"
        },
        "id": "v9qHabpNlNaM",
        "outputId": "38fe15db-d51b-4e0f-9fe2-ac5561f3094c"
      },
      "source": [
        "np.argmax(numpy_v,axis=None)"
      ],
      "execution_count": null,
      "outputs": [
        {
          "output_type": "execute_result",
          "data": {
            "text/plain": [
              "5"
            ]
          },
          "metadata": {
            "tags": []
          },
          "execution_count": 11
        }
      ]
    },
    {
      "cell_type": "code",
      "metadata": {
        "colab": {
          "base_uri": "https://localhost:8080/"
        },
        "id": "CO8F1rfSlta7",
        "outputId": "956d1f4c-43a5-4d11-944f-791a8b764a02"
      },
      "source": [
        "numpy_v"
      ],
      "execution_count": null,
      "outputs": [
        {
          "output_type": "execute_result",
          "data": {
            "text/plain": [
              "array([[ 4,  6,  9],\n",
              "       [ 7,  8, 26],\n",
              "       [ 4,  9,  4]])"
            ]
          },
          "metadata": {
            "tags": []
          },
          "execution_count": 14
        }
      ]
    },
    {
      "cell_type": "code",
      "metadata": {
        "colab": {
          "base_uri": "https://localhost:8080/"
        },
        "id": "okEGz_uj1SKc",
        "outputId": "84578605-2cc3-4627-b571-00a0b1c74166"
      },
      "source": [
        "v = [[1,3,6],[1,2,3],[1,6,9]]\n",
        "sum = 0\n",
        "for i in v:\n",
        "  for j in i:\n",
        "    sum = sum + j\n",
        "\n",
        "prom = sum/9\n",
        "prom"
      ],
      "execution_count": null,
      "outputs": [
        {
          "output_type": "execute_result",
          "data": {
            "text/plain": [
              "3.5555555555555554"
            ]
          },
          "metadata": {
            "tags": []
          },
          "execution_count": 85
        }
      ]
    },
    {
      "cell_type": "code",
      "metadata": {
        "colab": {
          "base_uri": "https://localhost:8080/"
        },
        "id": "oZyZi1Ls2-QH",
        "outputId": "5f3ce2d9-943e-4ed3-f612-4dbb98b69170"
      },
      "source": [
        "p = [1,2,6,9]\n",
        "n = 4\n",
        "for i in range(4):\n",
        "  if p[i]>3:\n",
        "    p[i] = p[i]*2\n",
        "\n",
        "p"
      ],
      "execution_count": null,
      "outputs": [
        {
          "output_type": "stream",
          "text": [
            "0\n",
            "1\n",
            "2\n",
            "3\n"
          ],
          "name": "stdout"
        },
        {
          "output_type": "execute_result",
          "data": {
            "text/plain": [
              "[1, 2, 12, 18]"
            ]
          },
          "metadata": {
            "tags": []
          },
          "execution_count": 87
        }
      ]
    },
    {
      "cell_type": "code",
      "metadata": {
        "id": "BDrSHw_EcwSt"
      },
      "source": [
        ""
      ],
      "execution_count": null,
      "outputs": []
    }
  ]
}