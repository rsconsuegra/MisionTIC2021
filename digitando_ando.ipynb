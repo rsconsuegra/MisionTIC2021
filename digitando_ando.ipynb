{
  "nbformat": 4,
  "nbformat_minor": 0,
  "metadata": {
    "colab": {
      "name": "digitando_ando.ipynb",
      "provenance": [],
      "authorship_tag": "ABX9TyOKv6ai9Blhk/Rfxih6UFS/",
      "include_colab_link": true
    },
    "kernelspec": {
      "name": "python3",
      "display_name": "Python 3"
    },
    "language_info": {
      "name": "python"
    }
  },
  "cells": [
    {
      "cell_type": "markdown",
      "metadata": {
        "id": "view-in-github",
        "colab_type": "text"
      },
      "source": [
        "<a href=\"https://colab.research.google.com/github/rsconsuegra/MisionTIC2021/blob/main/digitando_ando.ipynb\" target=\"_parent\"><img src=\"https://colab.research.google.com/assets/colab-badge.svg\" alt=\"Open In Colab\"/></a>"
      ]
    },
    {
      "cell_type": "code",
      "metadata": {
        "colab": {
          "base_uri": "https://localhost:8080/"
        },
        "id": "S_yeG67j_TEO",
        "outputId": "7a39c604-dbb6-4e41-d289-6517584d638b"
      },
      "source": [
        "menu = int(input('MENU \\n1. Leer un número de 4 dígitos, mostrar el dígito mayor e informar si es par o impar.\\n2. Leer dos números de 3 dígitos cada uno, formar un tercer número con el mayor del primero y el menor del segundo.\\n3. Leer un número de 3 dígitos y formar el mayor número posible con sus cifras.\\n\\nSeleccione opción:  '))\n",
        "\n",
        "if menu == 1:\n",
        "    num = int(input(\"Ingresa un número de 4 dígitos: \"))\n",
        "    mayor = num%10\n",
        "    num = int(num/10)\n",
        "    test = num%10\n",
        "\n",
        "    if mayor < test:\n",
        "        mayor = num%10\n",
        "    num = int(num/10)\n",
        "    test = num%10\n",
        "\n",
        "    if mayor < test:\n",
        "        mayor = num%10\n",
        "    num = int(num/10)\n",
        "\n",
        "    if mayor < num:\n",
        "        mayor = num%10\n",
        "\n",
        "    if((mayor%2)== 0 ):\n",
        "        texto = \"par\"\n",
        "    else:\n",
        "        texto = \"impar\"\n",
        "    print(\"El mayor dígito es \" + str(mayor) + \" y es \" +texto)\n",
        "elif menu == 2:\n",
        "    num = int(input(\"Ingresa un número de 3 dígitos: \"))\n",
        "    num2 = int(input(\"Ingresa otro número de 3 dígitos: \"))\n",
        "    \n",
        "    mayor = num%10#primero \n",
        "    med_dig = (int(num/10)%10)#segundo\n",
        "    prim_dig = (int(num/100)%10)#tercero\n",
        "        \n",
        "    if mayor < med_dig:\n",
        "        mayor = med_dig\n",
        "    if mayor < prim_dig:\n",
        "        mayor = prim_dig\n",
        "\n",
        "    menor = num2%10\n",
        "    med_dig = (int(num2/10)%10)\n",
        "    prim_dig = (int(num2/100)%10)\n",
        "\n",
        "    if menor > med_dig:\n",
        "        menor = med_dig\n",
        "    if menor > prim_dig:\n",
        "        menor = prim_dig\n",
        "    \n",
        "    print(\"El nuevo dígito es \" + str(mayor) + str(menor))#concatenar\n",
        "elif menu == 3:\n",
        "    num = int(input(\"Ingresa un número de 3 dígitos: \"))\n",
        "    \n",
        "    ult_dig = num%10\n",
        "    med_dig = (int(num/10)%10)\n",
        "    prim_dig = (int(num/100)%10)\n",
        "    total = ult_dig\n",
        "    nuevo_num = str(med_dig) + str(prim_dig)\n",
        "\n",
        "    if ult_dig < med_dig:\n",
        "        total = med_dig\n",
        "        nuevo_num = str(ult_dig) + str(prim_dig)\n",
        "    if total < prim_dig:\n",
        "        total =  prim_dig\n",
        "        nuevo_num = str(ult_dig) + str(med_dig)\n",
        "    \n",
        "    ult_dig = int(nuevo_num)%10\n",
        "    prim_dig = int(int(nuevo_num)/10)\n",
        "    if ult_dig < prim_dig:\n",
        "        total = str(total) + str(prim_dig) + str(ult_dig)\n",
        "    else:\n",
        "        total = str(total) + str(ult_dig) + str(prim_dig) \n",
        "\n",
        "    print(\"El nuevo dígito es \" + total)"
      ],
      "execution_count": null,
      "outputs": [
        {
          "output_type": "stream",
          "text": [
            "MENU \n",
            "1. Leer un número de 4 dígitos, mostrar el dígito mayor e informar si es par o impar.\n",
            "2. Leer dos números de 3 dígitos cada uno, formar un tercer número con el mayor del primero y el menor del segundo.\n",
            "3. Leer un número de 3 dígitos y formar el mayor número posible con sus cifras.\n",
            "\n",
            "Seleccione opción:  3\n",
            "Ingresa un número de 3 dígitos: 451\n",
            "El nuevo dígito es 541\n"
          ],
          "name": "stdout"
        }
      ]
    }
  ]
}